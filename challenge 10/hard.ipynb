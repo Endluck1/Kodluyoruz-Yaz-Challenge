{
  "nbformat": 4,
  "nbformat_minor": 0,
  "metadata": {
    "colab": {
      "provenance": []
    },
    "kernelspec": {
      "name": "python3",
      "display_name": "Python 3"
    },
    "language_info": {
      "name": "python"
    }
  },
  "cells": [
    {
      "cell_type": "code",
      "execution_count": 3,
      "metadata": {
        "colab": {
          "base_uri": "https://localhost:8080/"
        },
        "id": "jlFmesuUdNof",
        "outputId": "a1334091-7252-4b47-8bb9-71a8cf06a3fb"
      },
      "outputs": [
        {
          "output_type": "stream",
          "name": "stdout",
          "text": [
            "Bir sayı girin: 10\n",
            "10 sayısının tam bölenlerinin toplamı: 18\n"
          ]
        }
      ],
      "source": [
        "def calculate_divisor_sum(number):\n",
        "    if number <= 0:\n",
        "        return 0\n",
        "\n",
        "    divisor_sum = 0\n",
        "    for i in range(1, number + 1):\n",
        "        if number % i == 0:\n",
        "            divisor_sum += i\n",
        "\n",
        "    return divisor_sum\n",
        "\n",
        "try:\n",
        "    user_input = int(input(\"Bir sayı girin: \"))\n",
        "    divisor_sum_result = calculate_divisor_sum(user_input)\n",
        "    print(f\"{user_input} sayısının tam bölenlerinin toplamı:\", divisor_sum_result)\n",
        "except ValueError:\n",
        "    print(\"Geçerli bir sayı girmediniz.\")\n",
        "\n",
        "\n"
      ]
    }
  ]
}