{
  "nbformat": 4,
  "nbformat_minor": 0,
  "metadata": {
    "colab": {
      "provenance": []
    },
    "kernelspec": {
      "name": "python3",
      "display_name": "Python 3"
    },
    "language_info": {
      "name": "python"
    }
  },
  "cells": [
    {
      "cell_type": "code",
      "execution_count": 1,
      "metadata": {
        "colab": {
          "base_uri": "https://localhost:8080/"
        },
        "id": "jlFmesuUdNof",
        "outputId": "fe6abf6e-29bb-4400-894c-b527db05ab7a"
      },
      "outputs": [
        {
          "output_type": "stream",
          "name": "stdout",
          "text": [
            "En büyük sayı: 89\n"
          ]
        }
      ],
      "source": [
        "def find_largest_number(numbers):\n",
        "    if not numbers:\n",
        "        return None\n",
        "\n",
        "    largest = numbers[0]\n",
        "    for num in numbers:\n",
        "        if num > largest:\n",
        "            largest = num\n",
        "\n",
        "    return largest\n",
        "\n",
        "# Diziyi tanımlayalım\n",
        "number_list = [23, 45, 12, 67, 89, 34, 56]\n",
        "\n",
        "# En büyük sayıyı bulalım\n",
        "largest_number = find_largest_number(number_list)\n",
        "print(\"En büyük sayı:\", largest_number)\n"
      ]
    }
  ]
}