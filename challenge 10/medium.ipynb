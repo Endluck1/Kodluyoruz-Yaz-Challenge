{
  "nbformat": 4,
  "nbformat_minor": 0,
  "metadata": {
    "colab": {
      "provenance": []
    },
    "kernelspec": {
      "name": "python3",
      "display_name": "Python 3"
    },
    "language_info": {
      "name": "python"
    }
  },
  "cells": [
    {
      "cell_type": "code",
      "execution_count": 2,
      "metadata": {
        "colab": {
          "base_uri": "https://localhost:8080/"
        },
        "id": "jlFmesuUdNof",
        "outputId": "fe0654cc-dbc2-4468-c693-c719ce7af097"
      },
      "outputs": [
        {
          "output_type": "stream",
          "name": "stdout",
          "text": [
            "En küçük değer: 12\n",
            "En büyük değer: 89\n"
          ]
        }
      ],
      "source": [
        "def find_min_max(numbers):\n",
        "    if not numbers:\n",
        "        return None, None\n",
        "\n",
        "    min_value = max_value = numbers[0]\n",
        "    for num in numbers:\n",
        "        if num < min_value:\n",
        "            min_value = num\n",
        "        if num > max_value:\n",
        "            max_value = num\n",
        "\n",
        "    return min_value, max_value\n",
        "\n",
        "# Diziyi tanımlayalım\n",
        "number_list = [23, 45, 12, 67, 89, 34, 56]\n",
        "\n",
        "# En küçük ve en büyük değerleri bulalım\n",
        "min_val, max_val = find_min_max(number_list)\n",
        "print(\"En küçük değer:\", min_val)\n",
        "print(\"En büyük değer:\", max_val)\n",
        "\n"
      ]
    }
  ]
}