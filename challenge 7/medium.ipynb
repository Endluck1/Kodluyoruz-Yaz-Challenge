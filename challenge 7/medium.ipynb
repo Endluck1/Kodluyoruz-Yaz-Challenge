{
  "nbformat": 4,
  "nbformat_minor": 0,
  "metadata": {
    "colab": {
      "provenance": []
    },
    "kernelspec": {
      "name": "python3",
      "display_name": "Python 3"
    },
    "language_info": {
      "name": "python"
    }
  },
  "cells": [
    {
      "cell_type": "code",
      "execution_count": 12,
      "metadata": {
        "colab": {
          "base_uri": "https://localhost:8080/"
        },
        "id": "jlFmesuUdNof",
        "outputId": "a8c21b20-35cf-406d-fcbb-adc6afe123cc"
      },
      "outputs": [
        {
          "output_type": "stream",
          "name": "stdout",
          "text": [
            "Bir sayı girin: 7\n",
            "Girdiğiniz sayının basamaklarının toplamı: 7\n"
          ]
        }
      ],
      "source": [
        "def calculate_digit_sum(number):\n",
        "    digit_sum = 0\n",
        "    num_str = str(number)\n",
        "\n",
        "    for digit in num_str:\n",
        "        digit_sum += int(digit)\n",
        "\n",
        "    return digit_sum\n",
        "\n",
        "try:\n",
        "    user_input = int(input(\"Bir sayı girin: \"))\n",
        "    digit_sum_result = calculate_digit_sum(user_input)\n",
        "    print(f\"Girdiğiniz sayının basamaklarının toplamı: {digit_sum_result}\")\n",
        "except ValueError:\n",
        "    print(\"Geçerli bir sayı girmediniz.\")\n"
      ]
    }
  ]
}