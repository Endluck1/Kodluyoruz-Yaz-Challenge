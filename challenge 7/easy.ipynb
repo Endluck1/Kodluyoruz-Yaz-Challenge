{
  "nbformat": 4,
  "nbformat_minor": 0,
  "metadata": {
    "colab": {
      "provenance": []
    },
    "kernelspec": {
      "name": "python3",
      "display_name": "Python 3"
    },
    "language_info": {
      "name": "python"
    }
  },
  "cells": [
    {
      "cell_type": "code",
      "execution_count": 11,
      "metadata": {
        "colab": {
          "base_uri": "https://localhost:8080/"
        },
        "id": "jlFmesuUdNof",
        "outputId": "6421a867-9293-4779-e582-53b37c587a46"
      },
      "outputs": [
        {
          "output_type": "stream",
          "name": "stdout",
          "text": [
            "Bir kelime girin: ben\n",
            "Girdiğiniz kelimenin uzunluğu: 3\n"
          ]
        }
      ],
      "source": [
        "user_input = input(\"Bir kelime girin: \")\n",
        "word_length = len(user_input)\n",
        "print(f\"Girdiğiniz kelimenin uzunluğu: {word_length}\")\n",
        "\n",
        "\n"
      ]
    }
  ]
}