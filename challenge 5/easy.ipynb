{
  "nbformat": 4,
  "nbformat_minor": 0,
  "metadata": {
    "colab": {
      "provenance": []
    },
    "kernelspec": {
      "name": "python3",
      "display_name": "Python 3"
    },
    "language_info": {
      "name": "python"
    }
  },
  "cells": [
    {
      "cell_type": "code",
      "execution_count": 13,
      "metadata": {
        "colab": {
          "base_uri": "https://localhost:8080/"
        },
        "id": "jlFmesuUdNof",
        "outputId": "3c77f254-4aa0-4856-d07a-096d63e10ad5"
      },
      "outputs": [
        {
          "output_type": "stream",
          "name": "stdout",
          "text": [
            "Bir metin girin: ben sen biz\n",
            "Girdiğiniz metindeki sesli harf sayısı: 3\n"
          ]
        }
      ],
      "source": [
        "try:\n",
        "    num1 = float(input(\"Birinci sayıyı girin: \"))\n",
        "    num2 = float(input(\"İkinci sayıyı girin: \"))\n",
        "    total = num1 + num2\n",
        "    print(f\"Girdiğiniz sayıların toplamı: {total}\")\n",
        "except ValueError:\n",
        "    print(\"Geçerli sayılar girmediniz.\")\n",
        "\n",
        "\n"
      ]
    }
  ]
}