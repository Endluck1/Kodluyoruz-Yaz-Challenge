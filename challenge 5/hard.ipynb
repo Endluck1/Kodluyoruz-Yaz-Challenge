{
  "nbformat": 4,
  "nbformat_minor": 0,
  "metadata": {
    "colab": {
      "provenance": []
    },
    "kernelspec": {
      "name": "python3",
      "display_name": "Python 3"
    },
    "language_info": {
      "name": "python"
    }
  },
  "cells": [
    {
      "cell_type": "code",
      "execution_count": 16,
      "metadata": {
        "colab": {
          "base_uri": "https://localhost:8080/"
        },
        "id": "jlFmesuUdNof",
        "outputId": "4fb49509-39d6-4bd8-961a-b80392513a9b"
      },
      "outputs": [
        {
          "output_type": "stream",
          "name": "stdout",
          "text": [
            "Bir sayı girin: 15\n",
            "Girdiğiniz sayı karekökten tam olarak çıkmıyor.\n"
          ]
        }
      ],
      "source": [
        "import math\n",
        "\n",
        "try:\n",
        "    user_input = float(input(\"Bir sayı girin: \"))\n",
        "\n",
        "    if user_input >= 0:\n",
        "        square_root = math.sqrt(user_input)\n",
        "\n",
        "        if square_root.is_integer():\n",
        "            print(f\"Girdiğiniz sayının karekökü: {int(square_root)}\")\n",
        "        else:\n",
        "            print(\"Girdiğiniz sayı karekökten tam olarak çıkmıyor.\")\n",
        "    else:\n",
        "        print(\"Negatif sayıların karekökü alınamaz.\")\n",
        "except ValueError:\n",
        "    print(\"Geçerli bir sayı girmediniz.\")\n",
        "\n",
        "\n",
        "\n",
        "\n"
      ]
    }
  ]
}