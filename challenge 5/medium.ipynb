{
  "nbformat": 4,
  "nbformat_minor": 0,
  "metadata": {
    "colab": {
      "provenance": []
    },
    "kernelspec": {
      "name": "python3",
      "display_name": "Python 3"
    },
    "language_info": {
      "name": "python"
    }
  },
  "cells": [
    {
      "cell_type": "code",
      "execution_count": 15,
      "metadata": {
        "colab": {
          "base_uri": "https://localhost:8080/"
        },
        "id": "jlFmesuUdNof",
        "outputId": "6aae0895-5480-430e-931e-88c7c29e503d"
      },
      "outputs": [
        {
          "output_type": "stream",
          "name": "stdout",
          "text": [
            "Bir metin girin: dünyada tek sen varsın\n",
            "Girdiğiniz metindeki kelime sayısı: 4\n"
          ]
        }
      ],
      "source": [
        "def count_words(text):\n",
        "    words = text.split()\n",
        "    return len(words)\n",
        "\n",
        "user_input = input(\"Bir metin girin: \")\n",
        "word_count_result = count_words(user_input)\n",
        "print(f\"Girdiğiniz metindeki kelime sayısı: {word_count_result}\")\n",
        "\n",
        "\n",
        "\n"
      ]
    }
  ]
}