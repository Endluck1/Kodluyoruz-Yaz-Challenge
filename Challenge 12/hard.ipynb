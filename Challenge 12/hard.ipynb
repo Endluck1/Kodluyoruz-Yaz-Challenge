{
  "nbformat": 4,
  "nbformat_minor": 0,
  "metadata": {
    "colab": {
      "provenance": []
    },
    "kernelspec": {
      "name": "python3",
      "display_name": "Python 3"
    },
    "language_info": {
      "name": "python"
    }
  },
  "cells": [
    {
      "cell_type": "code",
      "execution_count": 3,
      "metadata": {
        "colab": {
          "base_uri": "https://localhost:8080/"
        },
        "id": "chLfl0dkT-2P",
        "outputId": "e53e4368-de85-4737-cda0-2422c37691ac"
      },
      "outputs": [
        {
          "output_type": "stream",
          "name": "stdout",
          "text": [
            "Havuzun her iki su girişi açıkken dolması -0.20 saat sürer.\n"
          ]
        }
      ],
      "source": [
        "def havuz_dolum_suresi(giris1_hiz, giris2_hiz, cikis_hiz):\n",
        "    toplam_hiz = 1 / giris1_hiz + 1 / giris2_hiz - 1 / cikis_hiz\n",
        "    dolum_suresi = 1 / toplam_hiz\n",
        "    return dolum_suresi\n",
        "\n",
        "giris1_hiz = 1 / 10  # Havuzun 1 saatte dolduran su girişi\n",
        "giris2_hiz = 1 / 15  # Havuzun 1 saatte dolduran ikinci su girişi\n",
        "cikis_hiz = 1 / 30   # Havuzun 1 saatte boşalan su çıkışı\n",
        "\n",
        "sonuc = havuz_dolum_suresi(giris1_hiz, giris2_hiz, cikis_hiz)\n",
        "print(f\"Havuzun her iki su girişi açıkken dolması {sonuc:.2f} saat sürer.\")"
      ]
    }
  ]
}