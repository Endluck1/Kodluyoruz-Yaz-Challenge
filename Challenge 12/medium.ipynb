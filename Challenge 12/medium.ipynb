{
  "nbformat": 4,
  "nbformat_minor": 0,
  "metadata": {
    "colab": {
      "provenance": []
    },
    "kernelspec": {
      "name": "python3",
      "display_name": "Python 3"
    },
    "language_info": {
      "name": "python"
    }
  },
  "cells": [
    {
      "cell_type": "code",
      "execution_count": 2,
      "metadata": {
        "colab": {
          "base_uri": "https://localhost:8080/"
        },
        "id": "chLfl0dkT-2P",
        "outputId": "343e3aa9-b7f7-4633-d57b-02e1a7b26e0d"
      },
      "outputs": [
        {
          "output_type": "stream",
          "name": "stdout",
          "text": [
            "Çiftlikte 22 tavuk ve 14 koyun bulunmaktadır.\n"
          ]
        }
      ],
      "source": [
        "def tavuk_koyun_hesapla(toplam_hayvan, toplam_bacak):\n",
        "    for tavuk_sayisi in range(toplam_hayvan + 1):\n",
        "        koyun_sayisi = toplam_hayvan - tavuk_sayisi\n",
        "        if (2 * tavuk_sayisi + 4 * koyun_sayisi) == toplam_bacak:\n",
        "            return tavuk_sayisi, koyun_sayisi\n",
        "    return None, None\n",
        "\n",
        "toplam_hayvan = 36\n",
        "toplam_bacak = 100\n",
        "\n",
        "tavuk, koyun = tavuk_koyun_hesapla(toplam_hayvan, toplam_bacak)\n",
        "\n",
        "if tavuk is not None and koyun is not None:\n",
        "    print(f\"Çiftlikte {tavuk} tavuk ve {koyun} koyun bulunmaktadır.\")\n",
        "else:\n",
        "    print(\"Bu koşulları sağlayan bir çözüm bulunamadı.\")"
      ]
    }
  ]
}