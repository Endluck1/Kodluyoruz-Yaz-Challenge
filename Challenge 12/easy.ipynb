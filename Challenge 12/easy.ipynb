{
  "nbformat": 4,
  "nbformat_minor": 0,
  "metadata": {
    "colab": {
      "provenance": []
    },
    "kernelspec": {
      "name": "python3",
      "display_name": "Python 3"
    },
    "language_info": {
      "name": "python"
    }
  },
  "cells": [
    {
      "cell_type": "code",
      "execution_count": 1,
      "metadata": {
        "id": "chLfl0dkT-2P",
        "outputId": "c453b94e-ccb3-4361-d95e-a5a90c1da485",
        "colab": {
          "base_uri": "https://localhost:8080/"
        }
      },
      "outputs": [
        {
          "output_type": "stream",
          "name": "stdout",
          "text": [
            "Araba 4.0 saatte 240 km yol alır.\n"
          ]
        }
      ],
      "source": [
        "def sure_hesapla(hiz, yol):\n",
        "    # Hızı yola bölerek süreyi hesapla\n",
        "    sure = yol / hiz\n",
        "    return sure\n",
        "\n",
        "hiz = 60  # km/saat\n",
        "yol = 240  # km\n",
        "\n",
        "sonuc = sure_hesapla(hiz, yol)\n",
        "print(f\"Araba {sonuc} saatte {yol} km yol alır.\")"
      ]
    }
  ]
}