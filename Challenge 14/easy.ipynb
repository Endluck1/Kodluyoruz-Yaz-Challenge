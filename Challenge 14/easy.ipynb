{
  "nbformat": 4,
  "nbformat_minor": 0,
  "metadata": {
    "colab": {
      "provenance": []
    },
    "kernelspec": {
      "name": "python3",
      "display_name": "Python 3"
    },
    "language_info": {
      "name": "python"
    }
  },
  "cells": [
    {
      "cell_type": "code",
      "execution_count": null,
      "metadata": {
        "colab": {
          "base_uri": "https://localhost:8080/"
        },
        "id": "xOotLKLMvOac",
        "outputId": "b1da6206-ff7e-4bbb-afa5-5f4619c71448"
      },
      "outputs": [
        {
          "output_type": "stream",
          "name": "stdout",
          "text": [
            "Bir sayi girin: 7\n",
            "7 asal bir sayidir.\n",
            "Bir sayi girin: 13\n",
            "13 asal bir sayidir.\n",
            "Bir sayi girin: 12\n",
            "12 asal bir sayi degildir.\n"
          ]
        }
      ],
      "source": [
        "def is_prime(n):\n",
        "    if n <= 1:\n",
        "        return False\n",
        "    if n <= 3:\n",
        "        return True\n",
        "    if n % 2 == 0 or n % 3 == 0:\n",
        "        return False\n",
        "    i = 5\n",
        "    while i * i <= n:\n",
        "        if n % i == 0 or n % (i + 2) == 0:\n",
        "            return False\n",
        "        i += 6\n",
        "    return True\n",
        "\n",
        "while True:\n",
        "    sayi = int(input(\"Bir sayi girin: \"))\n",
        "    if is_prime(sayi):\n",
        "        print(f\"{sayi} asal bir sayidir.\")\n",
        "    else:\n",
        "        print(f\"{sayi} asal bir sayi degildir.\")\n"
      ]
    }
  ]
}