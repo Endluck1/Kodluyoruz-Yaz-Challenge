{
  "nbformat": 4,
  "nbformat_minor": 0,
  "metadata": {
    "colab": {
      "provenance": []
    },
    "kernelspec": {
      "name": "python3",
      "display_name": "Python 3"
    },
    "language_info": {
      "name": "python"
    }
  },
  "cells": [
    {
      "cell_type": "code",
      "execution_count": 2,
      "metadata": {
        "colab": {
          "base_uri": "https://localhost:8080/"
        },
        "id": "xOotLKLMvOac",
        "outputId": "ae188643-103f-42e8-c1b5-47ac0df04210"
      },
      "outputs": [
        {
          "output_type": "stream",
          "name": "stdout",
          "text": [
            "Bir kelime girin: fatih\n",
            "Orijinal kelime: fatih\n",
            "Büyük harfli kelime: FATIH\n"
          ]
        }
      ],
      "source": [
        "kelime = input(\"Bir kelime girin: \")\n",
        "buyuk_kelime = kelime.upper()\n",
        "\n",
        "print(f\"Orijinal kelime: {kelime}\")\n",
        "print(f\"Büyük harfli kelime: {buyuk_kelime}\")\n",
        "\n"
      ]
    }
  ]
}