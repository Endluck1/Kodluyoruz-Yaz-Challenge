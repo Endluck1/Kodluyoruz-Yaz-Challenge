{
  "nbformat": 4,
  "nbformat_minor": 0,
  "metadata": {
    "colab": {
      "provenance": []
    },
    "kernelspec": {
      "name": "python3",
      "display_name": "Python 3"
    },
    "language_info": {
      "name": "python"
    }
  },
  "cells": [
    {
      "cell_type": "code",
      "execution_count": 3,
      "metadata": {
        "colab": {
          "base_uri": "https://localhost:8080/"
        },
        "id": "xOotLKLMvOac",
        "outputId": "012776c7-6ffd-40aa-f800-d39b3a7b4f56"
      },
      "outputs": [
        {
          "output_type": "stream",
          "name": "stdout",
          "text": [
            "Cost: 100\n",
            "Price: 150\n",
            "Break-even point is 3 units. In other words, you need to sell at least 3 units to start making a profit.\n"
          ]
        }
      ],
      "source": [
        "cost = float(input(\"Cost: \"))\n",
        "price = float(input(\"Price: \"))\n",
        "\n",
        "if cost >= price:\n",
        "    print(\"Cost price should be lower than the selling price. Profit cannot be achieved.\")\n",
        "else:\n",
        "    profit_per_item = price - cost\n",
        "    break_even_quantity = int(cost / profit_per_item) + 1\n",
        "\n",
        "    print(f\"Break-even point is {break_even_quantity} units. In other words, you need to sell at least {break_even_quantity} units to start making a profit.\")\n",
        "\n",
        "\n"
      ]
    }
  ]
}