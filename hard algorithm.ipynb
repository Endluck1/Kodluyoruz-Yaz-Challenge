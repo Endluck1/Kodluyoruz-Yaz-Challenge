{
  "nbformat": 4,
  "nbformat_minor": 0,
  "metadata": {
    "colab": {
      "provenance": []
    },
    "kernelspec": {
      "name": "python3",
      "display_name": "Python 3"
    },
    "language_info": {
      "name": "python"
    }
  },
  "cells": [
    {
      "cell_type": "code",
      "execution_count": 1,
      "metadata": {
        "colab": {
          "base_uri": "https://localhost:8080/"
        },
        "id": "hyyc33eN1SM9",
        "outputId": "dcc77f97-e296-4de7-850b-8c19043896d5"
      },
      "outputs": [
        {
          "output_type": "stream",
          "name": "stdout",
          "text": [
            "Tam sayı dizisini girin (örn: 1 2 3 4): 5 6 8 9\n",
            "Hedef sayıyı girin: 6\n",
            "Hedef sayıya ulaşmak için farklı kombinasyonlar:\n",
            "[6]\n"
          ]
        }
      ],
      "source": [
        "def subset_sum(numbers, target):\n",
        "    def backtrack(start, target, path):\n",
        "        if target == 0:\n",
        "            result.append(path)\n",
        "            return\n",
        "        for i in range(start, len(numbers)):\n",
        "            if numbers[i] <= target:\n",
        "                backtrack(i + 1, target - numbers[i], path + [numbers[i]])\n",
        "\n",
        "    result = []\n",
        "    numbers.sort()\n",
        "    backtrack(0, target, [])\n",
        "    return result\n",
        "\n",
        "def main():\n",
        "    try:\n",
        "        # Kullanıcıdan tam sayı dizisini alıyoruz.\n",
        "        numbers = list(map(int, input(\"Tam sayı dizisini girin (örn: 1 2 3 4): \").split()))\n",
        "\n",
        "        # Kullanıcıdan hedef sayıyı alıyoruz.\n",
        "        target = int(input(\"Hedef sayıyı girin: \"))\n",
        "\n",
        "        # Subset Sum problemini çözüyoruz.\n",
        "        result = subset_sum(numbers, target)\n",
        "\n",
        "        if not result:\n",
        "            print(\"Hedef sayıya ulaşmak için uygun bir kombinasyon bulunamadı.\")\n",
        "        else:\n",
        "            print(\"Hedef sayıya ulaşmak için farklı kombinasyonlar:\")\n",
        "            for combination in result:\n",
        "                print(combination)\n",
        "\n",
        "    except ValueError:\n",
        "        print(\"Geçersiz giriş yaptınız. Lütfen doğru bir şekilde tam sayı dizisi ve hedef sayıyı girin.\")\n",
        "\n",
        "if __name__ == \"__main__\":\n",
        "    main()\n"
      ]
    }
  ]
}