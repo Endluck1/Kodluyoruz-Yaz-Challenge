{
  "nbformat": 4,
  "nbformat_minor": 0,
  "metadata": {
    "colab": {
      "provenance": []
    },
    "kernelspec": {
      "name": "python3",
      "display_name": "Python 3"
    },
    "language_info": {
      "name": "python"
    }
  },
  "cells": [
    {
      "cell_type": "code",
      "execution_count": 18,
      "metadata": {
        "colab": {
          "base_uri": "https://localhost:8080/"
        },
        "id": "jlFmesuUdNof",
        "outputId": "b4b373f5-3537-420f-b87f-8e03a714ab60"
      },
      "outputs": [
        {
          "output_type": "stream",
          "name": "stdout",
          "text": [
            "Müşteri ödemesi gereken tutar: 240 TL\n"
          ]
        }
      ],
      "source": [
        "# Ürün fiyatları\n",
        "kitap_fiyat = 80\n",
        "defter_fiyat = 20\n",
        "kalem_fiyat = 5\n",
        "\n",
        "# Alınan ürün miktarları\n",
        "kitap_adet = 2\n",
        "defter_adet = 3\n",
        "kalem_adet = 4\n",
        "\n",
        "# Toplam ödeme hesaplama\n",
        "toplam_odeme = (kitap_fiyat * kitap_adet) + (defter_fiyat * defter_adet) + (kalem_fiyat * kalem_adet)\n",
        "print(\"Müşteri ödemesi gereken tutar:\", toplam_odeme, \"TL\")\n"
      ]
    }
  ]
}