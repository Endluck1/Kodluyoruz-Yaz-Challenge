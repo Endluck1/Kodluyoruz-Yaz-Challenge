{
  "nbformat": 4,
  "nbformat_minor": 0,
  "metadata": {
    "colab": {
      "provenance": []
    },
    "kernelspec": {
      "name": "python3",
      "display_name": "Python 3"
    },
    "language_info": {
      "name": "python"
    }
  },
  "cells": [
    {
      "cell_type": "code",
      "execution_count": 19,
      "metadata": {
        "colab": {
          "base_uri": "https://localhost:8080/"
        },
        "id": "jlFmesuUdNof",
        "outputId": "f3999981-5b57-4dba-aa4d-c91c38c18656"
      },
      "outputs": [
        {
          "output_type": "stream",
          "name": "stdout",
          "text": [
            "4 kişi farklı şekillerde seçilebilir: 27405 farklı şekilde.\n"
          ]
        }
      ],
      "source": [
        "import math\n",
        "\n",
        "# Toplam öğrenci sayısı\n",
        "toplam_ogrenci = 30\n",
        "\n",
        "# Seçilecek öğrenci sayısı\n",
        "secilecek_ogrenci = 4\n",
        "\n",
        "# Farklı şekillerde seçim hesaplama\n",
        "farkli_sekillerde_secim = math.comb(toplam_ogrenci, secilecek_ogrenci)\n",
        "print(f\"{secilecek_ogrenci} kişi farklı şekillerde seçilebilir: {farkli_sekillerde_secim} farklı şekilde.\")\n"
      ]
    }
  ]
}