{
  "nbformat": 4,
  "nbformat_minor": 0,
  "metadata": {
    "colab": {
      "provenance": []
    },
    "kernelspec": {
      "name": "python3",
      "display_name": "Python 3"
    },
    "language_info": {
      "name": "python"
    }
  },
  "cells": [
    {
      "cell_type": "code",
      "execution_count": 17,
      "metadata": {
        "colab": {
          "base_uri": "https://localhost:8080/"
        },
        "id": "jlFmesuUdNof",
        "outputId": "6755ae00-ab87-496d-e410-785e76d497e7"
      },
      "outputs": [
        {
          "output_type": "stream",
          "name": "stdout",
          "text": [
            "Toplam puan: 35\n"
          ]
        }
      ],
      "source": [
        "# Verilen veriler\n",
        "puan_3 = 3\n",
        "isabet_3 = 5\n",
        "\n",
        "puan_2 = 2\n",
        "isabet_2 = 10\n",
        "\n",
        "# Toplam puan hesaplama\n",
        "toplam_puan = (puan_3 * isabet_3) + (puan_2 * isabet_2)\n",
        "print(\"Toplam puan:\", toplam_puan)\n",
        "\n",
        "\n",
        "\n",
        "\n",
        "\n"
      ]
    }
  ]
}