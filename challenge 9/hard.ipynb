{
  "nbformat": 4,
  "nbformat_minor": 0,
  "metadata": {
    "colab": {
      "provenance": []
    },
    "kernelspec": {
      "name": "python3",
      "display_name": "Python 3"
    },
    "language_info": {
      "name": "python"
    }
  },
  "cells": [
    {
      "cell_type": "code",
      "execution_count": 6,
      "metadata": {
        "colab": {
          "base_uri": "https://localhost:8080/"
        },
        "id": "jlFmesuUdNof",
        "outputId": "0efde3c6-dd86-4f60-ab87-191401e969e7"
      },
      "outputs": [
        {
          "output_type": "stream",
          "name": "stdout",
          "text": [
            "Bir cümle girin: arka arkaya gittik\n",
            "Cümlede ikileme bulunmuyor.\n"
          ]
        }
      ],
      "source": [
        "def check_repetition(sentence):\n",
        "    words = sentence.split()\n",
        "    for i in range(len(words) - 1):\n",
        "        if words[i] == words[i + 1]:\n",
        "            return True\n",
        "    return False\n",
        "\n",
        "user_sentence = input(\"Bir cümle girin: \")\n",
        "if check_repetition(user_sentence):\n",
        "    print(\"Cümlede ikileme bulunuyor.\")\n",
        "else:\n",
        "    print(\"Cümlede ikileme bulunmuyor.\")\n",
        "\n",
        "\n",
        "\n",
        "\n",
        "\n"
      ]
    }
  ]
}