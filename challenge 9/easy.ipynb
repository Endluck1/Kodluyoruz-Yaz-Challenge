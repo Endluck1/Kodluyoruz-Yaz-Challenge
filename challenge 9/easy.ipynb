{
  "nbformat": 4,
  "nbformat_minor": 0,
  "metadata": {
    "colab": {
      "provenance": []
    },
    "kernelspec": {
      "name": "python3",
      "display_name": "Python 3"
    },
    "language_info": {
      "name": "python"
    }
  },
  "cells": [
    {
      "cell_type": "code",
      "execution_count": 4,
      "metadata": {
        "colab": {
          "base_uri": "https://localhost:8080/"
        },
        "id": "jlFmesuUdNof",
        "outputId": "ab2a9085-8efc-40a3-c7e6-23acaff3c37f"
      },
      "outputs": [
        {
          "output_type": "stream",
          "name": "stdout",
          "text": [
            "Bir sayı girin: 3\n",
            "3 sayısı tek bir sayıdır.\n"
          ]
        }
      ],
      "source": [
        "try:\n",
        "    user_input = int(input(\"Bir sayı girin: \"))\n",
        "    if user_input % 2 == 0:\n",
        "        print(f\"{user_input} sayısı çift bir sayıdır.\")\n",
        "    else:\n",
        "        print(f\"{user_input} sayısı tek bir sayıdır.\")\n",
        "except ValueError:\n",
        "    print(\"Geçerli bir sayı girmediniz.\")\n",
        "\n",
        "\n",
        "\n"
      ]
    }
  ]
}