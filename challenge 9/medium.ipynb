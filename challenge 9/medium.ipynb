{
  "nbformat": 4,
  "nbformat_minor": 0,
  "metadata": {
    "colab": {
      "provenance": []
    },
    "kernelspec": {
      "name": "python3",
      "display_name": "Python 3"
    },
    "language_info": {
      "name": "python"
    }
  },
  "cells": [
    {
      "cell_type": "code",
      "execution_count": 5,
      "metadata": {
        "colab": {
          "base_uri": "https://localhost:8080/"
        },
        "id": "jlFmesuUdNof",
        "outputId": "a417c3a8-f997-4c96-d867-ac27f23e08af"
      },
      "outputs": [
        {
          "output_type": "stream",
          "name": "stdout",
          "text": [
            "Çift sayıların toplamı: 102\n"
          ]
        }
      ],
      "source": [
        "def calculate_even_sum(numbers):\n",
        "    even_sum = 0\n",
        "    for num in numbers:\n",
        "        if num % 2 == 0:\n",
        "            even_sum += num\n",
        "    return even_sum\n",
        "\n",
        "# Diziyi tanımlayalım\n",
        "number_list = [23, 45, 12, 67, 89, 34, 56]\n",
        "\n",
        "# Çift sayıların toplamını hesaplayalım\n",
        "even_sum_result = calculate_even_sum(number_list)\n",
        "print(\"Çift sayıların toplamı:\", even_sum_result)\n",
        "\n",
        "\n",
        "\n",
        "\n"
      ]
    }
  ]
}