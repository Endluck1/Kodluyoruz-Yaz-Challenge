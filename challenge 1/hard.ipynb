{
  "nbformat": 4,
  "nbformat_minor": 0,
  "metadata": {
    "colab": {
      "provenance": []
    },
    "kernelspec": {
      "name": "python3",
      "display_name": "Python 3"
    },
    "language_info": {
      "name": "python"
    }
  },
  "cells": [
    {
      "cell_type": "code",
      "execution_count": 22,
      "metadata": {
        "colab": {
          "base_uri": "https://localhost:8080/"
        },
        "id": "jlFmesuUdNof",
        "outputId": "d1310662-09bf-4ee3-e025-f82ccd7273dd"
      },
      "outputs": [
        {
          "output_type": "stream",
          "name": "stdout",
          "text": [
            "Ikinci yarışmacı birinci yarışmacıyı 0.00 saat sonra yakalar.\n"
          ]
        }
      ],
      "source": [
        "def yakalama_zamani(birinci_hiz, ikinci_hiz, baslangic_mesafe):\n",
        "    if birinci_hiz >= ikinci_hiz:\n",
        "        return None  # İkinci yarışmacı birinci yarışmacıyı yakalayamaz\n",
        "\n",
        "    yakalama_suresi = baslangic_mesafe / (ikinci_hiz - birinci_hiz)\n",
        "    return yakalama_suresi\n",
        "\n",
        "birinci_hiz = 15  # km/saat\n",
        "ikinci_hiz = 20   # km/saat\n",
        "baslangic_mesafe = 0  # Başlangıçta aralarında mesafe yok\n",
        "\n",
        "yakalama_suresi = yakalama_zamani(birinci_hiz, ikinci_hiz, baslangic_mesafe)\n",
        "\n",
        "if yakalama_suresi is not None:\n",
        "    print(f\"Ikinci yarışmacı birinci yarışmacıyı {yakalama_suresi:.2f} saat sonra yakalar.\")\n",
        "else:\n",
        "    print(\"Ikinci yarışmacı birinci yarışmacıyı yakalayamaz.\")\n",
        "\n",
        "\n"
      ]
    }
  ]
}