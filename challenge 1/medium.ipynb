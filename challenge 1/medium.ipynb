{
  "nbformat": 4,
  "nbformat_minor": 0,
  "metadata": {
    "colab": {
      "provenance": []
    },
    "kernelspec": {
      "name": "python3",
      "display_name": "Python 3"
    },
    "language_info": {
      "name": "python"
    }
  },
  "cells": [
    {
      "cell_type": "code",
      "execution_count": 21,
      "metadata": {
        "colab": {
          "base_uri": "https://localhost:8080/"
        },
        "id": "jlFmesuUdNof",
        "outputId": "8334d802-6669-4322-a887-b63d1fbe52ef"
      },
      "outputs": [
        {
          "output_type": "stream",
          "name": "stdout",
          "text": [
            "Her ay okunması gereken kitap sayısı: 3.0\n"
          ]
        }
      ],
      "source": [
        "# Yıllık kitap okuma hedefi\n",
        "yillik_hedef = 36\n",
        "\n",
        "# Her ay okunması gereken kitap sayısı\n",
        "aylik_kitap_sayisi = yillik_hedef / 12\n",
        "\n",
        "print(\"Her ay okunması gereken kitap sayısı:\", aylik_kitap_sayisi)\n",
        "\n"
      ]
    }
  ]
}