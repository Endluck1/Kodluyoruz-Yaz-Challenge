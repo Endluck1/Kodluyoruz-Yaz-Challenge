{
  "nbformat": 4,
  "nbformat_minor": 0,
  "metadata": {
    "colab": {
      "provenance": []
    },
    "kernelspec": {
      "name": "python3",
      "display_name": "Python 3"
    },
    "language_info": {
      "name": "python"
    }
  },
  "cells": [
    {
      "cell_type": "code",
      "execution_count": 20,
      "metadata": {
        "colab": {
          "base_uri": "https://localhost:8080/"
        },
        "id": "jlFmesuUdNof",
        "outputId": "cd520040-3fa7-419a-c97c-7f226d7bcc73"
      },
      "outputs": [
        {
          "output_type": "stream",
          "name": "stdout",
          "text": [
            "Aynı renkten çıkma olasılığı: 0.2878787878787879\n"
          ]
        }
      ],
      "source": [
        "import math\n",
        "\n",
        "# Topların renk sayıları\n",
        "kirmizi_top_sayisi = 5\n",
        "yesil_top_sayisi = 4\n",
        "mavi_top_sayisi = 3\n",
        "\n",
        "# Çekilecek top sayısı\n",
        "cekilecek_top_sayisi = 2\n",
        "\n",
        "# Aynı renkten çıkma olasılığı hesaplama\n",
        "ayni_renk_olasiligi = (math.comb(kirmizi_top_sayisi, cekilecek_top_sayisi) +\n",
        "                       math.comb(yesil_top_sayisi, cekilecek_top_sayisi) +\n",
        "                       math.comb(mavi_top_sayisi, cekilecek_top_sayisi)) / math.comb(kirmizi_top_sayisi + yesil_top_sayisi + mavi_top_sayisi, cekilecek_top_sayisi)\n",
        "\n",
        "print(\"Aynı renkten çıkma olasılığı:\", ayni_renk_olasiligi)\n",
        "\n"
      ]
    }
  ]
}