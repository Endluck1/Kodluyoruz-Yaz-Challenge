{
  "nbformat": 4,
  "nbformat_minor": 0,
  "metadata": {
    "colab": {
      "provenance": []
    },
    "kernelspec": {
      "name": "python3",
      "display_name": "Python 3"
    },
    "language_info": {
      "name": "python"
    }
  },
  "cells": [
    {
      "cell_type": "code",
      "execution_count": 4,
      "metadata": {
        "colab": {
          "base_uri": "https://localhost:8080/"
        },
        "id": "OHUacLqMuMIQ",
        "outputId": "530a310e-40a4-4620-f06f-41b0cd7dcd72"
      },
      "outputs": [
        {
          "output_type": "stream",
          "name": "stdout",
          "text": [
            "Dizi boyutunu girin: 3\n",
            "1. sayıyı girin: 5\n",
            "2. sayıyı girin: 6\n",
            "3. sayıyı girin: 7\n",
            "Hedef sayıyı girin: 10\n",
            "10, dizide 0 kez tekrar ediyor.\n"
          ]
        }
      ],
      "source": [
        "def tekrar_sayisi_bul(dizi, hedef):\n",
        "    tekrar_sayisi = 0\n",
        "    for sayi in dizi:\n",
        "        if sayi == hedef:\n",
        "            tekrar_sayisi += 1\n",
        "    return tekrar_sayisi\n",
        "\n",
        "try:\n",
        "    n = int(input(\"Dizi boyutunu girin: \"))\n",
        "    sıralı_dizi = []\n",
        "\n",
        "    for i in range(n):\n",
        "        sayi = int(input(f\"{i+1}. sayıyı girin: \"))\n",
        "        sıralı_dizi.append(sayi)\n",
        "\n",
        "    hedef_sayi = int(input(\"Hedef sayıyı girin: \"))\n",
        "\n",
        "    tekrar_sayisi = tekrar_sayisi_bul(sıralı_dizi, hedef_sayi)\n",
        "    print(f\"{hedef_sayi}, dizide {tekrar_sayisi} kez tekrar ediyor.\")\n",
        "except ValueError:\n",
        "    print(\"Geçerli bir sayı giriniz.\")\n",
        "\n",
        "\n"
      ]
    }
  ]
}