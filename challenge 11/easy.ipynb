{
  "nbformat": 4,
  "nbformat_minor": 0,
  "metadata": {
    "colab": {
      "provenance": []
    },
    "kernelspec": {
      "name": "python3",
      "display_name": "Python 3"
    },
    "language_info": {
      "name": "python"
    }
  },
  "cells": [
    {
      "cell_type": "code",
      "execution_count": 1,
      "metadata": {
        "colab": {
          "base_uri": "https://localhost:8080/"
        },
        "id": "OHUacLqMuMIQ",
        "outputId": "d78b3166-d0e4-4f0b-d560-ebae4f4d1198"
      },
      "outputs": [
        {
          "output_type": "stream",
          "name": "stdout",
          "text": [
            "Faktoriyelini hesaplamak istediğiniz sayıyı girin: 9\n",
            "9 sayısının faktöriyeli: 362880\n"
          ]
        }
      ],
      "source": [
        "def faktoriyel_hesapla(sayi):\n",
        "    faktoriyel = 1\n",
        "    for i in range(1, sayi + 1):\n",
        "        faktoriyel *= i\n",
        "    return faktoriyel\n",
        "\n",
        "try:\n",
        "    sayi = int(input(\"Faktoriyelini hesaplamak istediğiniz sayıyı girin: \"))\n",
        "    if sayi < 0:\n",
        "        print(\"Negatif sayıların faktöriyeli tanımsızdır.\")\n",
        "    else:\n",
        "        sonuc = faktoriyel_hesapla(sayi)\n",
        "        print(f\"{sayi} sayısının faktöriyeli: {sonuc}\")\n",
        "except ValueError:\n",
        "    print(\"Geçerli bir sayı girmediniz.\")\n"
      ]
    }
  ]
}