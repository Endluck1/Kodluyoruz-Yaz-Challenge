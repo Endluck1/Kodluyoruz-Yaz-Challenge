{
  "nbformat": 4,
  "nbformat_minor": 0,
  "metadata": {
    "colab": {
      "provenance": []
    },
    "kernelspec": {
      "name": "python3",
      "display_name": "Python 3"
    },
    "language_info": {
      "name": "python"
    }
  },
  "cells": [
    {
      "cell_type": "code",
      "execution_count": 3,
      "metadata": {
        "colab": {
          "base_uri": "https://localhost:8080/"
        },
        "id": "OHUacLqMuMIQ",
        "outputId": "994c675d-f5f1-415d-f2cc-f2fa376d0a49"
      },
      "outputs": [
        {
          "output_type": "stream",
          "name": "stdout",
          "text": [
            "Dizi boyutunu girin: 1\n",
            "1. sayıyı girin: 1\n",
            "Girilen sayıların ortalaması: 1.00\n"
          ]
        }
      ],
      "source": [
        "def ortalama_hesapla(dizi):\n",
        "    toplam = sum(dizi)\n",
        "    ortalama = toplam / len(dizi)\n",
        "    return ortalama\n",
        "\n",
        "try:\n",
        "    n = int(input(\"Dizi boyutunu girin: \"))\n",
        "    dizi = []\n",
        "\n",
        "    for i in range(n):\n",
        "        sayi = float(input(f\"{i+1}. sayıyı girin: \"))\n",
        "        dizi.append(sayi)\n",
        "\n",
        "    if n > 0:\n",
        "        sonuc = ortalama_hesapla(dizi)\n",
        "        print(f\"Girilen sayıların ortalaması: {sonuc:.2f}\")\n",
        "    else:\n",
        "        print(\"Dizi boyutu sıfırdan büyük olmalıdır.\")\n",
        "except ValueError:\n",
        "    print(\"Geçerli bir sayı giriniz.\")\n",
        "\n"
      ]
    }
  ]
}