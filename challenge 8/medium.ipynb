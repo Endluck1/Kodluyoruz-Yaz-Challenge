{
  "nbformat": 4,
  "nbformat_minor": 0,
  "metadata": {
    "colab": {
      "provenance": []
    },
    "kernelspec": {
      "name": "python3",
      "display_name": "Python 3"
    },
    "language_info": {
      "name": "python"
    }
  },
  "cells": [
    {
      "cell_type": "code",
      "execution_count": 9,
      "metadata": {
        "colab": {
          "base_uri": "https://localhost:8080/"
        },
        "id": "jlFmesuUdNof",
        "outputId": "efcc933d-a5c0-4ea0-f910-6c092ef1f44f"
      },
      "outputs": [
        {
          "output_type": "stream",
          "name": "stdout",
          "text": [
            "Dizinin medyanı: 45\n"
          ]
        }
      ],
      "source": [
        "def calculate_median(numbers):\n",
        "    sorted_numbers = sorted(numbers)\n",
        "    n = len(sorted_numbers)\n",
        "\n",
        "    if n % 2 == 1:  # Tek sayıda eleman varsa\n",
        "        median = sorted_numbers[n // 2]\n",
        "    else:  # Çift sayıda eleman varsa\n",
        "        middle_1 = sorted_numbers[(n // 2) - 1]\n",
        "        middle_2 = sorted_numbers[n // 2]\n",
        "        median = (middle_1 + middle_2) / 2\n",
        "\n",
        "    return median\n",
        "\n",
        "# Diziyi tanımlayalım\n",
        "number_list = [23, 45, 12, 67, 89, 34, 56]\n",
        "\n",
        "# Medyanı hesaplayalım\n",
        "median_result = calculate_median(number_list)\n",
        "print(\"Dizinin medyanı:\", median_result)\n",
        "\n",
        "\n",
        "\n",
        "\n",
        "\n",
        "\n",
        "\n"
      ]
    }
  ]
}