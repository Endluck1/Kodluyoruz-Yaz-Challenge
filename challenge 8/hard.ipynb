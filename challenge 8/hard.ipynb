{
  "nbformat": 4,
  "nbformat_minor": 0,
  "metadata": {
    "colab": {
      "provenance": []
    },
    "kernelspec": {
      "name": "python3",
      "display_name": "Python 3"
    },
    "language_info": {
      "name": "python"
    }
  },
  "cells": [
    {
      "cell_type": "code",
      "execution_count": 10,
      "metadata": {
        "colab": {
          "base_uri": "https://localhost:8080/"
        },
        "id": "jlFmesuUdNof",
        "outputId": "f62e07f2-fe83-4724-84cb-0a8cba50b623"
      },
      "outputs": [
        {
          "output_type": "stream",
          "name": "stdout",
          "text": [
            "Bir sayı girin: 105\n",
            "105 bir Armstrong sayısı değildir.\n"
          ]
        }
      ],
      "source": [
        "def is_armstrong_number(number):\n",
        "    num_str = str(number)\n",
        "    power = len(num_str)\n",
        "    total = sum(int(digit) ** power for digit in num_str)\n",
        "    return total == number\n",
        "\n",
        "try:\n",
        "    user_input = int(input(\"Bir sayı girin: \"))\n",
        "    if is_armstrong_number(user_input):\n",
        "        print(f\"{user_input} bir Armstrong sayısıdır.\")\n",
        "    else:\n",
        "        print(f\"{user_input} bir Armstrong sayısı değildir.\")\n",
        "except ValueError:\n",
        "    print(\"Geçerli bir sayı girmediniz.\")\n",
        "\n"
      ]
    }
  ]
}