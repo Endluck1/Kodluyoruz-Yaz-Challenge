{
  "nbformat": 4,
  "nbformat_minor": 0,
  "metadata": {
    "colab": {
      "provenance": []
    },
    "kernelspec": {
      "name": "python3",
      "display_name": "Python 3"
    },
    "language_info": {
      "name": "python"
    }
  },
  "cells": [
    {
      "cell_type": "code",
      "execution_count": 8,
      "metadata": {
        "colab": {
          "base_uri": "https://localhost:8080/"
        },
        "id": "jlFmesuUdNof",
        "outputId": "9d9b0e0c-e6ee-4780-9b08-300932e77f3b"
      },
      "outputs": [
        {
          "output_type": "stream",
          "name": "stdout",
          "text": [
            "Bir sayı girin: 3\n",
            "Girdiğiniz sayının karesi: 9\n"
          ]
        }
      ],
      "source": [
        "try:\n",
        "    user_input = int(input(\"Bir sayı girin: \"))\n",
        "    square = user_input ** 2\n",
        "    print(f\"Girdiğiniz sayının karesi: {square}\")\n",
        "except ValueError:\n",
        "    print(\"Geçerli bir sayı girmediniz.\")\n",
        "\n",
        "\n",
        "\n",
        "\n",
        "\n",
        "\n"
      ]
    }
  ]
}