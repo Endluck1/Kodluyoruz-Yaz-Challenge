{
  "nbformat": 4,
  "nbformat_minor": 0,
  "metadata": {
    "colab": {
      "provenance": []
    },
    "kernelspec": {
      "name": "python3",
      "display_name": "Python 3"
    },
    "language_info": {
      "name": "python"
    }
  },
  "cells": [
    {
      "cell_type": "code",
      "source": [
        "from datetime import date\n",
        "\n",
        "def calculate_age(birth_date):\n",
        "    today = date.today()\n",
        "    age = today.year - birth_date.year - ((today.month, today.day) < (birth_date.month, birth_date.day))\n",
        "    return age\n",
        "\n",
        "def main():\n",
        "    try:\n",
        "        # Kullanıcıdan doğum tarihini almak için google.colab.input() fonksiyonunu kullanıyoruz.\n",
        "        birth_year = int(input(\"Doğum yılınızı girin (örn: 1990): \"))\n",
        "        birth_month = int(input(\"Doğum ayınızı girin (örn: 7): \"))\n",
        "        birth_day = int(input(\"Doğum gününüzü girin (örn: 15): \"))\n",
        "\n",
        "        # Kullanıcının doğum tarihini date sınıfına dönüştürüyoruz.\n",
        "        birth_date = date(birth_year, birth_month, birth_day)\n",
        "\n",
        "        # Yaşı hesaplamak için calculate_age fonksiyonunu çağırıyoruz.\n",
        "        age = calculate_age(birth_date)\n",
        "\n",
        "        print(f\"Siz {age} yaşındasınız.\")\n",
        "    except ValueError:\n",
        "        print(\"Geçersiz giriş yaptınız. Lütfen doğru bir şekilde doğum tarihinizi girin.\")\n",
        "\n",
        "if __name__ == \"__main__\":\n",
        "    main()\n"
      ],
      "metadata": {
        "colab": {
          "base_uri": "https://localhost:8080/"
        },
        "id": "XNYNMbKbxNIz",
        "outputId": "515451c4-0c87-4643-c9fc-a42af432bf5f"
      },
      "execution_count": 29,
      "outputs": [
        {
          "output_type": "stream",
          "name": "stdout",
          "text": [
            "Doğum yılınızı girin (örn: 1990): 2002\n",
            "Doğum ayınızı girin (örn: 7): 5\n",
            "Doğum gününüzü girin (örn: 15): 25\n",
            "Siz 21 yaşındasınız.\n"
          ]
        }
      ]
    }
  ]
}