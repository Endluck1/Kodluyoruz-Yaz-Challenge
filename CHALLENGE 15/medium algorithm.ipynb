{
  "nbformat": 4,
  "nbformat_minor": 0,
  "metadata": {
    "colab": {
      "provenance": []
    },
    "kernelspec": {
      "name": "python3",
      "display_name": "Python 3"
    },
    "language_info": {
      "name": "python"
    }
  },
  "cells": [
    {
      "cell_type": "code",
      "execution_count": 1,
      "metadata": {
        "colab": {
          "base_uri": "https://localhost:8080/"
        },
        "id": "LiKRuHo61Fzf",
        "outputId": "6904062b-2d2e-4ee1-d4e0-54a039e7b932"
      },
      "outputs": [
        {
          "output_type": "stream",
          "name": "stdout",
          "text": [
            "Metin girin: nasılsın\n",
            "Metinde en çok tekrar eden harf: 'n', 2 kez tekrar ediyor.\n"
          ]
        }
      ],
      "source": [
        "def find_most_common_letter(text):\n",
        "    # Metindeki harf sayılarını saklamak için bir sözlük oluşturuyoruz.\n",
        "    letter_counts = {}\n",
        "\n",
        "    # Metni dolaşıp her harfin tekrar sayısını hesaplıyoruz.\n",
        "    for letter in text:\n",
        "        if letter.isalpha():  # Sadece harfleri dikkate alıyoruz, diğer karakterleri atlıyoruz.\n",
        "            letter = letter.lower()  # Harfleri küçük harfe dönüştürüyoruz (büyük/küçük harf duyarlılığı için).\n",
        "            letter_counts[letter] = letter_counts.get(letter, 0) + 1\n",
        "\n",
        "    # Sözlükteki en yüksek değere sahip harfi ve tekrar sayısını buluyoruz.\n",
        "    most_common_letter = max(letter_counts, key=letter_counts.get)\n",
        "    most_common_count = letter_counts[most_common_letter]\n",
        "\n",
        "    return most_common_letter, most_common_count\n",
        "\n",
        "def main():\n",
        "    try:\n",
        "        # Kullanıcıdan metni alıyoruz.\n",
        "        text = input(\"Metin girin: \")\n",
        "\n",
        "        # En çok tekrar eden harfi ve tekrar sayısını buluyoruz.\n",
        "        most_common_letter, most_common_count = find_most_common_letter(text)\n",
        "\n",
        "        print(f\"Metinde en çok tekrar eden harf: '{most_common_letter}', {most_common_count} kez tekrar ediyor.\")\n",
        "    except Exception as e:\n",
        "        print(\"Bir hata oluştu:\", e)\n",
        "\n",
        "if __name__ == \"__main__\":\n",
        "    main()\n"
      ]
    }
  ]
}